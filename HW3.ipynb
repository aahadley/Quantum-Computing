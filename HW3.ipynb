{
  "nbformat": 4,
  "nbformat_minor": 0,
  "metadata": {
    "colab": {
      "name": "HW3.ipynb",
      "version": "0.3.2",
      "provenance": [],
      "include_colab_link": true
    },
    "kernelspec": {
      "name": "python3",
      "display_name": "Python 3"
    }
  },
  "cells": [
    {
      "cell_type": "markdown",
      "metadata": {
        "id": "view-in-github",
        "colab_type": "text"
      },
      "source": [
        "<a href=\"https://colab.research.google.com/github/aahadley/Quantum-Computing/blob/master/HW3.ipynb\" target=\"_parent\"><img src=\"https://colab.research.google.com/assets/colab-badge.svg\" alt=\"Open In Colab\"/></a>"
      ]
    },
    {
      "cell_type": "markdown",
      "metadata": {
        "id": "I6-IEDAiyR7n",
        "colab_type": "text"
      },
      "source": [
        "Aaron Hadley  \n",
        "HW3 : COT 5600 - Quantum Computing"
      ]
    },
    {
      "cell_type": "markdown",
      "metadata": {
        "id": "P-Q_vNHTqrsy",
        "colab_type": "text"
      },
      "source": [
        "##Problem 1: Quantum Fourier Transform\n",
        "\n",
        "Let $N=2^n$, $[N] = \\{0, ..., N-1 \\}$, and $\\omega = e^{\\frac{2 \\pi i}{N}}$ be an $N^{th}$ root of unity. THe Quantum Fourier transform $F_N$ of size $N$ is \n",
        "\n",
        "$$\n",
        "F_N = \\frac{1}{\\sqrt{N}} \\sum_{k, \\ell \\in [N]} \\omega ^{k \\cdot \\ell} |k \\rangle \\langle \\ell |.\n",
        "$$\n",
        "\n",
        "Show that $F_N$ is unitary.\n",
        "\n",
        "---\n",
        "---\n",
        "\n",
        "First, calculate $F^\\dagger _N$ as \n",
        "\n",
        "$$\n",
        "F^\\dagger _N = \\frac{1}{\\sqrt{N}} \\sum_{k, \\ell \\in [N]} \\omega ^{*^{k \\cdot \\ell}} | \\ell \\rangle \\langle k |\n",
        "$$\n",
        "\n",
        "Now we show that $F^\\dagger _N F_N = I$. \n",
        "\n",
        "\\begin{align*}\n",
        "F^\\dagger _N F_N  &= \\Bigg(\\frac{1}{\\sqrt{N}} \\sum_{k, \\ell \\in [N]} \\omega ^{*^{k \\cdot \\ell}} | \\ell \\rangle \\langle k | \\Bigg) \\Bigg(\\frac{1}{\\sqrt{N}} \\sum_{k, \\ell \\in [N]} \\omega ^{k \\cdot \\ell} |k \\rangle \\langle \\ell |. \\Bigg) \\\\\n",
        "&= \\frac{1}{N} \\sum_{k, \\ell \\in [N]} \\omega ^{*^{k \\cdot \\ell}} \\omega ^{k \\cdot \\ell} \\big( | \\ell \\rangle \\langle k | \\big) \\big( |k \\rangle \\langle \\ell | \\big) \\\\\n",
        "&= \\frac{1}{N} \\sum_{k, \\ell \\in [N]} | \\ell \\rangle \\langle k | k \\rangle \\langle \\ell | \\\\\n",
        "&= \\frac{1}{N} \\sum_{\\ell \\in [N]} | \\ell \\rangle \\langle \\ell | \\\\\n",
        "&= \\frac{1}{N} \\Big( N \\cdot I \\Big) = I\n",
        "\\end{align*}"
      ]
    },
    {
      "cell_type": "markdown",
      "metadata": {
        "id": "Bp5lJbIfyd3A",
        "colab_type": "text"
      },
      "source": [
        "## Problem 2 : Quantum Phase Estimation  \n",
        "\n",
        "Let $\\varphi \\in [0, 1)$ be arbitrary and \n",
        "\n",
        "$$\n",
        "| \\varphi \\rangle = \\bigotimes_{k=n-1,\\ldots,0} \\frac{1}{\\sqrt2}(|0 \\rangle + exp(2\\pi i 2^k \\varphi) |1 \\rangle)\n",
        "$$  \n",
        "\n",
        "Create a Python notebook that lets you compute and plot the probabilities for measuring $x \\in \\{0, 1 \\}^n$ when the state is  \n",
        "$$\n",
        "F^\\dagger _N | \\varphi \\rangle\n",
        "$$  \n",
        "\n",
        "for different N and $\\varphi$.  \n",
        "\n",
        "---\n",
        "---"
      ]
    },
    {
      "cell_type": "code",
      "metadata": {
        "id": "zCMYPCb7z19T",
        "colab_type": "code",
        "outputId": "7040c3b0-4931-4970-8a62-67e20ba1778c",
        "colab": {
          "base_uri": "https://localhost:8080/",
          "height": 350
        }
      },
      "source": [
        "import numpy as np\n",
        "\n",
        "import matplotlib\n",
        "import matplotlib.pyplot as plt\n",
        "import matplotlib.patches as patches\n",
        "from mpl_toolkits import mplot3d\n",
        "\n",
        "\n",
        "ket_0 = np.array([1, 0], dtype=complex)\n",
        "ket_1 = np.array([0, 1], dtype=complex)\n",
        "r2inv = (1 / np.sqrt(2))\n",
        "\n",
        "pi = np.pi\n",
        "\n",
        "\n",
        "\n",
        "def ket(size, value):\n",
        "    kn = np.zeros(size)\n",
        "    kn[value] = 1\n",
        "    \n",
        "    return kn\n",
        "\n",
        "\n",
        "def ket_phi(n, phi):\n",
        "    '''Construct phi'''\n",
        "    #print(\"entered k_phi\")\n",
        "    k_phi = r2inv * (ket_0 + np.exp(2 * pi * 1j * 2**n-1 * phi) * ket_1)\n",
        "    \n",
        "    for k in range(n-2, 0-1, -1):\n",
        "        k_phi = r2inv * np.kron(k_phi, ket_0 + np.exp(2 * pi * 1j * 2**k * phi) * ket_1)\n",
        "    \n",
        "    #print(k_phi)\n",
        "    return k_phi\n",
        "\n",
        "\n",
        "def fdagger(N, phi):\n",
        "    '''Construct F†N|φ⟩'''\n",
        "    \n",
        "    Ninv = 1 / np.sqrt(N)\n",
        "    omega = np.conj(np.exp(2 * pi * 1j / N))\n",
        "    \n",
        "    Fdagger = np.outer(ket_0, ket_0)\n",
        "    for k in range(N):\n",
        "        for l in range(N): # l = lowercase L != 1\n",
        "            np.append(Fdagger, omega**(k*l) * np.outer(ket(N, l), ket(N, k)))\n",
        "    \n",
        "    #print(Fdagger)\n",
        "    return Fdagger    \n",
        "    \n",
        "    \n",
        "def get_probabilities():\n",
        "    \n",
        "    p_values = np.arange(0.1, 1.0, .1)\n",
        "    N_values = [2**n for n in range(9)]\n",
        "    res = []\n",
        "    \n",
        "    n=0\n",
        "    for N in N_values:\n",
        "       # print(\"N = \", N, \"\\n n = \", n)\n",
        "        res.append([])\n",
        "        p_i = 0\n",
        "        for p in p_values:\n",
        "            #print(p_i)\n",
        "            phi = ket_phi(n, p)\n",
        "            res[n-1].append(fdagger(N, phi) @ phi)\n",
        "            p_i += 1\n",
        "        \n",
        "        n += 1\n",
        "    \n",
        "    return False\n",
        "\n",
        "get_probabilities()"
      ],
      "execution_count": 0,
      "outputs": [
        {
          "output_type": "error",
          "ename": "ValueError",
          "evalue": "ignored",
          "traceback": [
            "\u001b[0;31m---------------------------------------------------------------------------\u001b[0m",
            "\u001b[0;31mValueError\u001b[0m                                Traceback (most recent call last)",
            "\u001b[0;32m<ipython-input-39-1fe557d686dd>\u001b[0m in \u001b[0;36m<module>\u001b[0;34m()\u001b[0m\n\u001b[1;32m     70\u001b[0m     \u001b[0;32mreturn\u001b[0m \u001b[0;32mFalse\u001b[0m\u001b[0;34m\u001b[0m\u001b[0;34m\u001b[0m\u001b[0m\n\u001b[1;32m     71\u001b[0m \u001b[0;34m\u001b[0m\u001b[0m\n\u001b[0;32m---> 72\u001b[0;31m \u001b[0mget_probabilities\u001b[0m\u001b[0;34m(\u001b[0m\u001b[0;34m)\u001b[0m\u001b[0;34m\u001b[0m\u001b[0;34m\u001b[0m\u001b[0m\n\u001b[0m",
            "\u001b[0;32m<ipython-input-39-1fe557d686dd>\u001b[0m in \u001b[0;36mget_probabilities\u001b[0;34m()\u001b[0m\n\u001b[1;32m     63\u001b[0m             \u001b[0;31m#print(p_i)\u001b[0m\u001b[0;34m\u001b[0m\u001b[0;34m\u001b[0m\u001b[0;34m\u001b[0m\u001b[0m\n\u001b[1;32m     64\u001b[0m             \u001b[0mphi\u001b[0m \u001b[0;34m=\u001b[0m \u001b[0mket_phi\u001b[0m\u001b[0;34m(\u001b[0m\u001b[0mn\u001b[0m\u001b[0;34m,\u001b[0m \u001b[0mp\u001b[0m\u001b[0;34m)\u001b[0m\u001b[0;34m\u001b[0m\u001b[0;34m\u001b[0m\u001b[0m\n\u001b[0;32m---> 65\u001b[0;31m             \u001b[0mres\u001b[0m\u001b[0;34m[\u001b[0m\u001b[0mn\u001b[0m\u001b[0;34m-\u001b[0m\u001b[0;36m1\u001b[0m\u001b[0;34m]\u001b[0m\u001b[0;34m.\u001b[0m\u001b[0mappend\u001b[0m\u001b[0;34m(\u001b[0m\u001b[0mfdagger\u001b[0m\u001b[0;34m(\u001b[0m\u001b[0mN\u001b[0m\u001b[0;34m,\u001b[0m \u001b[0mphi\u001b[0m\u001b[0;34m)\u001b[0m \u001b[0;34m@\u001b[0m \u001b[0mphi\u001b[0m\u001b[0;34m)\u001b[0m\u001b[0;34m\u001b[0m\u001b[0;34m\u001b[0m\u001b[0m\n\u001b[0m\u001b[1;32m     66\u001b[0m             \u001b[0mp_i\u001b[0m \u001b[0;34m+=\u001b[0m \u001b[0;36m1\u001b[0m\u001b[0;34m\u001b[0m\u001b[0;34m\u001b[0m\u001b[0m\n\u001b[1;32m     67\u001b[0m \u001b[0;34m\u001b[0m\u001b[0m\n",
            "\u001b[0;31mValueError\u001b[0m: matmul: Input operand 1 has a mismatch in its core dimension 0, with gufunc signature (n?,k),(k,m?)->(n?,m?) (size 4 is different from 2)"
          ]
        }
      ]
    }
  ]
}