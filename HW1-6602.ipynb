{
  "nbformat": 4,
  "nbformat_minor": 0,
  "metadata": {
    "colab": {
      "name": "HW1.ipynb",
      "provenance": [],
      "include_colab_link": true
    },
    "kernelspec": {
      "name": "python3",
      "display_name": "Python 3"
    }
  },
  "cells": [
    {
      "cell_type": "markdown",
      "metadata": {
        "id": "view-in-github",
        "colab_type": "text"
      },
      "source": [
        "<a href=\"https://colab.research.google.com/github/aahadley/Quantum-Computing/blob/master/HW1-6602.ipynb\" target=\"_parent\"><img src=\"https://colab.research.google.com/assets/colab-badge.svg\" alt=\"Open In Colab\"/></a>"
      ]
    },
    {
      "cell_type": "code",
      "metadata": {
        "id": "PIiraYKqoZ7H",
        "colab_type": "code",
        "colab": {}
      },
      "source": [
        ""
      ],
      "execution_count": 0,
      "outputs": []
    },
    {
      "cell_type": "markdown",
      "metadata": {
        "id": "2mftcPpzobkB",
        "colab_type": "text"
      },
      "source": [
        "A simple pendulum consists of a massless rod of length l with a bob of mass m. The rod is suspended from the oorigin O and movers without friction. The entire motion ins restricted in the xy plane. The y-axis points downward. Let \\phi denote the angle between the rod and the y axis.  \n",
        "Write down the lagrangian and solve the Euler-lagrange equation to determine the motion of the simple pendulum.  \n",
        "\n",
        "### Finding the Lagrangian\n",
        "$$\n",
        "\\mathcal{L} = T - U \\\\\n",
        "= \\frac{1}{2}mv^2 - mg\n",
        "= \\frac{1}{2}m(r')^2 - mgh\n",
        "$$\n",
        "\n",
        "note that \n",
        "$$\n",
        "r = \\begin{bmatrix}{\\ell sin\\theta \\\\ \\ell cos \\theta}\\end{bmatrix} \\\\ \n",
        "$$\n",
        "\n",
        "$$\n",
        "r' = \\begin{bmatrix}{\\ell cos\\theta \\cdot \\theta ' \\\\ -\\ell sin \\theta \\cdot \\theta '}\\end{bmatrix}\n",
        "$$\n",
        "so,\n",
        "\n",
        "$$\n",
        "\\mathcal{L} = \\frac{1}{2}m \\ell ^2(\\theta')^2(cos^2 \\theta + sin^2 \\theta)-mg\\ell cos\\theta \\\\\n",
        "= \\frac{1}{2}m \\ell^2(\\theta')^2 - mg\\ell cos\\theta. \\\\\n",
        "$$\n",
        "\n",
        "\n",
        "### Solving the Euler-Lagrange Equation\n",
        "$$\n",
        "\\frac{d}{dt}\\bigg( \\frac{\\partial \\mathcal{L}}{\\partial \\theta'} \\bigg) - \\frac{ \\partial \\mathcal{L}}{\\partial \\theta} \\\\\n",
        "= \\frac{d}{dt}\\bigg(m \\ell^2 \\theta ' \\bigg) - -mg \\ell sin \\theta \\\\\n",
        "= m \\ell^2 \\theta '' + mg \\ell sin \\theta\n",
        "$$\n",
        "Since the force is conservative, we have \n",
        "\n",
        "$$\n",
        "m \\ell^2 \\theta '' + mg \\ell sin \\theta = 0 \\\\\n",
        "\\theta '' + \\frac{g}{\\ell}sin \\theta = 0.\n",
        "$$\n"
      ]
    },
    {
      "cell_type": "markdown",
      "metadata": {
        "id": "LvHA62N8tytp",
        "colab_type": "text"
      },
      "source": [
        "###[Glowscript Simulation](https://www.glowscript.org/#/user/aahadley/folder/MyPrograms/program/pendulum)"
      ]
    },
    {
      "cell_type": "markdown",
      "metadata": {
        "id": "vIkdod2ouY4d",
        "colab_type": "text"
      },
      "source": [
        "## Brachistochrone\n",
        "###[Glowscript Simulation](https://www.glowscript.org/#/user/aahadley/folder/MyPrograms/program/brachistochrone)"
      ]
    }
  ]
}